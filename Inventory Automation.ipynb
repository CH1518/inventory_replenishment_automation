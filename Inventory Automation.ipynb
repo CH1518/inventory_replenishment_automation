{
 "cells": [
  {
   "cell_type": "code",
   "execution_count": 115,
   "metadata": {},
   "outputs": [],
   "source": [
    "import pandas as pd\n",
    "import pyodbc\n",
    "import sqlalchemy as db\n",
    "import smtplib\n",
    "from email.mime.text import MIMEText\n",
    "from email.mime.multipart import MIMEMultipart"
   ]
  },
  {
   "cell_type": "code",
   "execution_count": null,
   "metadata": {},
   "outputs": [],
   "source": [
    "cnxn_string = 'DRIVER={ODBC Driver 17 for SQL Server};SERVER=globalresale-reporting.database.windows.net;DATABASE=GRID;UID=first.last@email.com;PWD=pw;Authentication=ActiveDirectoryPassword'"
   ]
  },
  {
   "cell_type": "code",
   "execution_count": 152,
   "metadata": {},
   "outputs": [],
   "source": [
    "cnxn = pyodbc.connect(cnxn_string)"
   ]
  },
  {
   "cell_type": "code",
   "execution_count": 158,
   "metadata": {},
   "outputs": [],
   "source": [
    "sql = \"\"\"\n",
    "SELECT\n",
    "AssetNumber, \n",
    "AuxAssetTag1, \n",
    "AuxAssetTag2, \n",
    "Assettype.FullName as AssetType, \n",
    "assetstatus.[Name] as assetstatus,\n",
    "ManufacturerModel.ManufacturerName as Make,\n",
    "ManufacturerModel.Model,\n",
    "FunctionalGrade.Name as FuncGrade, \n",
    "Shipped, \n",
    "CreatedDateTime,\n",
    "lastchangedatetime, \n",
    "location, \n",
    "Comments\n",
    "\n",
    "From Inventory.Asset\n",
    "INNER JOIN Inventory.CosmeticGrade on CosmeticGrade.ID = Asset.CosmeticGradeID\n",
    "INNER JOIN Inventory.FunctionalGrade on FunctionalGrade.ID = Asset.FunctionalGradeID\n",
    "INNER JOIN Inventory.AssetStatus on AssetStatus.ID = Asset.AssetStatusID\n",
    "Inner Join Inventory.AssetType on AssetType.ID = asset.AssetTypeID\n",
    "Inner Join inventory.ManufacturerModel on ManufacturerModel.ID = asset.ManufacturerModelID\n",
    "where  location like '%AUSC523000000%' AND Shipped = 0\n",
    "\"\"\"\n",
    "\n",
    "df = pd.read_sql(sql, con=cnxn).copy()"
   ]
  },
  {
   "cell_type": "code",
   "execution_count": 159,
   "metadata": {},
   "outputs": [],
   "source": [
    "cnxn.close()"
   ]
  },
  {
   "cell_type": "code",
   "execution_count": 213,
   "metadata": {},
   "outputs": [],
   "source": [
    "body = df.to_html(index=False)\n",
    "body = \"<html>\"+body"
   ]
  },
  {
   "cell_type": "code",
   "execution_count": 214,
   "metadata": {},
   "outputs": [],
   "source": [
    "def send_email(email_list,subj,body):\n",
    "    # establish MIME for email server to use\n",
    "    msg=MIMEMultipart()\n",
    "    #add details of subject, sender, html, etc\n",
    "    msg[\"From\"] = \"first.last@email.com\"\n",
    "    msg[\"To\"] = \",\".join(email_list)\n",
    "    msg[\"Subject\"] = subj\n",
    "    msg[\"MIME-Version\"] = \"1.0\"\n",
    "    if body:\n",
    "        part = MIMEText(body,\"html\",\"utf-8\")\n",
    "    else:\n",
    "        part = MIMEText(body, \"plain\")\n",
    "    msg.attach(part)\n",
    "    #opens server and sends mail, quits server\n",
    "    email_server = (\"smtp.office365.com\")\n",
    "    server = smtplib.SMTP(email_server)\n",
    "    server.sendmail(\"first.last@email.com\",email_list,msg.as_string())\n",
    "    server.quit()"
   ]
  },
  {
   "cell_type": "code",
   "execution_count": 215,
   "metadata": {},
   "outputs": [
    {
     "ename": "SMTPSenderRefused",
     "evalue": "(451, b'5.7.3 STARTTLS is required to send mail [DM6PR04CA0027.namprd04.prod.outlook.com]', 'carlos.hernandez@globalresale.com')",
     "output_type": "error",
     "traceback": [
      "\u001b[1;31m---------------------------------------------------------------------------\u001b[0m",
      "\u001b[1;31mSMTPSenderRefused\u001b[0m                         Traceback (most recent call last)",
      "\u001b[1;32m<ipython-input-215-73c28c8d7934>\u001b[0m in \u001b[0;36m<module>\u001b[1;34m\u001b[0m\n\u001b[0;32m     11\u001b[0m \u001b[1;31m#    print('no disputes')\u001b[0m\u001b[1;33m\u001b[0m\u001b[1;33m\u001b[0m\u001b[1;33m\u001b[0m\u001b[0m\n\u001b[0;32m     12\u001b[0m \u001b[1;31m#else:\u001b[0m\u001b[1;33m\u001b[0m\u001b[1;33m\u001b[0m\u001b[1;33m\u001b[0m\u001b[0m\n\u001b[1;32m---> 13\u001b[1;33m \u001b[0msend_email\u001b[0m\u001b[1;33m(\u001b[0m\u001b[0memail_list\u001b[0m\u001b[1;33m,\u001b[0m\u001b[0msubj\u001b[0m\u001b[1;33m=\u001b[0m\u001b[1;34m'Inventory Test'\u001b[0m\u001b[1;33m,\u001b[0m \u001b[0mbody\u001b[0m\u001b[1;33m=\u001b[0m\u001b[0mbody\u001b[0m\u001b[1;33m)\u001b[0m\u001b[1;33m\u001b[0m\u001b[1;33m\u001b[0m\u001b[0m\n\u001b[0m",
      "\u001b[1;32m<ipython-input-214-46eae164a2ec>\u001b[0m in \u001b[0;36msend_email\u001b[1;34m(email_list, subj, body)\u001b[0m\n\u001b[0;32m     15\u001b[0m     \u001b[0memail_server\u001b[0m \u001b[1;33m=\u001b[0m \u001b[1;33m(\u001b[0m\u001b[1;34m\"smtp.office365.com\"\u001b[0m\u001b[1;33m)\u001b[0m\u001b[1;33m\u001b[0m\u001b[1;33m\u001b[0m\u001b[0m\n\u001b[0;32m     16\u001b[0m     \u001b[0mserver\u001b[0m \u001b[1;33m=\u001b[0m \u001b[0msmtplib\u001b[0m\u001b[1;33m.\u001b[0m\u001b[0mSMTP\u001b[0m\u001b[1;33m(\u001b[0m\u001b[0memail_server\u001b[0m\u001b[1;33m)\u001b[0m\u001b[1;33m\u001b[0m\u001b[1;33m\u001b[0m\u001b[0m\n\u001b[1;32m---> 17\u001b[1;33m     \u001b[0mserver\u001b[0m\u001b[1;33m.\u001b[0m\u001b[0msendmail\u001b[0m\u001b[1;33m(\u001b[0m\u001b[1;34m\"carlos.hernandez@globalresale.com\"\u001b[0m\u001b[1;33m,\u001b[0m\u001b[0memail_list\u001b[0m\u001b[1;33m,\u001b[0m\u001b[0mmsg\u001b[0m\u001b[1;33m.\u001b[0m\u001b[0mas_string\u001b[0m\u001b[1;33m(\u001b[0m\u001b[1;33m)\u001b[0m\u001b[1;33m)\u001b[0m\u001b[1;33m\u001b[0m\u001b[1;33m\u001b[0m\u001b[0m\n\u001b[0m\u001b[0;32m     18\u001b[0m     \u001b[0mserver\u001b[0m\u001b[1;33m.\u001b[0m\u001b[0mquit\u001b[0m\u001b[1;33m(\u001b[0m\u001b[1;33m)\u001b[0m\u001b[1;33m\u001b[0m\u001b[1;33m\u001b[0m\u001b[0m\n",
      "\u001b[1;32m~\\Anaconda3\\lib\\smtplib.py\u001b[0m in \u001b[0;36msendmail\u001b[1;34m(self, from_addr, to_addrs, msg, mail_options, rcpt_options)\u001b[0m\n\u001b[0;32m    865\u001b[0m             \u001b[1;32melse\u001b[0m\u001b[1;33m:\u001b[0m\u001b[1;33m\u001b[0m\u001b[1;33m\u001b[0m\u001b[0m\n\u001b[0;32m    866\u001b[0m                 \u001b[0mself\u001b[0m\u001b[1;33m.\u001b[0m\u001b[0m_rset\u001b[0m\u001b[1;33m(\u001b[0m\u001b[1;33m)\u001b[0m\u001b[1;33m\u001b[0m\u001b[1;33m\u001b[0m\u001b[0m\n\u001b[1;32m--> 867\u001b[1;33m             \u001b[1;32mraise\u001b[0m \u001b[0mSMTPSenderRefused\u001b[0m\u001b[1;33m(\u001b[0m\u001b[0mcode\u001b[0m\u001b[1;33m,\u001b[0m \u001b[0mresp\u001b[0m\u001b[1;33m,\u001b[0m \u001b[0mfrom_addr\u001b[0m\u001b[1;33m)\u001b[0m\u001b[1;33m\u001b[0m\u001b[1;33m\u001b[0m\u001b[0m\n\u001b[0m\u001b[0;32m    868\u001b[0m         \u001b[0msenderrs\u001b[0m \u001b[1;33m=\u001b[0m \u001b[1;33m{\u001b[0m\u001b[1;33m}\u001b[0m\u001b[1;33m\u001b[0m\u001b[1;33m\u001b[0m\u001b[0m\n\u001b[0;32m    869\u001b[0m         \u001b[1;32mif\u001b[0m \u001b[0misinstance\u001b[0m\u001b[1;33m(\u001b[0m\u001b[0mto_addrs\u001b[0m\u001b[1;33m,\u001b[0m \u001b[0mstr\u001b[0m\u001b[1;33m)\u001b[0m\u001b[1;33m:\u001b[0m\u001b[1;33m\u001b[0m\u001b[1;33m\u001b[0m\u001b[0m\n",
      "\u001b[1;31mSMTPSenderRefused\u001b[0m: (451, b'5.7.3 STARTTLS is required to send mail [DM6PR04CA0027.namprd04.prod.outlook.com]', 'carlos.hernandez@globalresale.com')"
     ]
    }
   ],
   "source": [
    "df_read_log = pd.read_csv(r\"C:\\Users\\carlos.hernandez\\Desktop\\Inventory Reporting\\inventory_report.csv\")\n",
    "df_old_jobs = df_obbt.merge(df_read_log, on=['event_id','updated_at'])\n",
    "ids_to_ignore = df_old_jobs['event_id'].values.tolist()\n",
    "if ids_to_ignore:\n",
    "    df_jobs = df_obbt[~df_obbt.event_id.isin(ids_to_ignore)]\n",
    "else:\n",
    "    df_jobs = df_obbt\n",
    "if df_jobs.empty\n",
    "    print('no new jobs')\n",
    "elif df_obbt.empty:\n",
    "    print('no disputes')\n",
    "else:\n",
    "send_email(email_list,subj='Inventory Test', body=body)"
   ]
  },
  {
   "cell_type": "code",
   "execution_count": 196,
   "metadata": {},
   "outputs": [],
   "source": [
    "log_columns = ['event_id','event_state']\n",
    "df_log = df_obbt[log_columns].copy()\n",
    "df.to_csv(r\"C:\\Users\\carlos.hernandez\\Desktop\\Inventory Reporting\\inventory_report.csv\")"
   ]
  },
  {
   "cell_type": "code",
   "execution_count": null,
   "metadata": {},
   "outputs": [],
   "source": []
  }
 ],
 "metadata": {
  "kernelspec": {
   "display_name": "Python 3",
   "language": "python",
   "name": "python3"
  },
  "language_info": {
   "codemirror_mode": {
    "name": "ipython",
    "version": 3
   },
   "file_extension": ".py",
   "mimetype": "text/x-python",
   "name": "python",
   "nbconvert_exporter": "python",
   "pygments_lexer": "ipython3",
   "version": "3.7.6"
  }
 },
 "nbformat": 4,
 "nbformat_minor": 4
}
